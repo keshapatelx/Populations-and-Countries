{
 "cells": [
  {
   "attachments": {},
   "cell_type": "markdown",
   "id": "76dde5a5-8ad7-4e72-9c07-9a08b986f3bf",
   "metadata": {},
   "source": [
    "Team Member 1: Tirth Nileshbhai Chheta (00949791)"
   ]
  },
  {
   "cell_type": "markdown",
   "id": "72cf9ccb-c20c-4f23-b3d8-fcf2ca88b3c9",
   "metadata": {},
   "source": [
    "Team Member 2: Venkata sai kumar Erla (00955858)"
   ]
  },
  {
   "cell_type": "markdown",
   "id": "971cd024-7e6d-4f65-9c1f-21c747e87cbb",
   "metadata": {},
   "source": [
    "Team Member 3: Kesha Bharat Patel (00962084)"
   ]
  },
  {
   "cell_type": "markdown",
   "id": "7aad7261-3169-44a2-b53b-5687b40058a5",
   "metadata": {},
   "source": [
    "Team Member 4: Lokesh Umamaheswari Ethirajan (00904259)"
   ]
  },
  {
   "cell_type": "code",
   "execution_count": null,
   "id": "a6c04c51-ad0b-4dec-8359-7ef6ae3ca591",
   "metadata": {},
   "outputs": [],
   "source": []
  }
 ],
 "metadata": {
  "kernelspec": {
   "display_name": "Python 3 (ipykernel)",
   "language": "python",
   "name": "python3"
  },
  "language_info": {
   "codemirror_mode": {
    "name": "ipython",
    "version": 3
   },
   "file_extension": ".py",
   "mimetype": "text/x-python",
   "name": "python",
   "nbconvert_exporter": "python",
   "pygments_lexer": "ipython3",
   "version": "3.12.5"
  }
 },
 "nbformat": 4,
 "nbformat_minor": 5
}
